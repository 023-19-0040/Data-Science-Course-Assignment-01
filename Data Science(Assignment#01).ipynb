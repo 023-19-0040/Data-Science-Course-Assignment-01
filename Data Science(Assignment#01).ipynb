{
 "cells": [
  {
   "cell_type": "code",
   "execution_count": 23,
   "id": "1640ef9d",
   "metadata": {},
   "outputs": [
    {
     "name": "stdout",
     "output_type": "stream",
     "text": [
      "Welcome to Data Science !\n"
     ]
    }
   ],
   "source": [
    "#--------------Data Science By Jawan Pakistan---------#\n",
    "print(\"Welcome to Data Science !\");"
   ]
  },
  {
   "cell_type": "code",
   "execution_count": 24,
   "id": "ba7b56fa",
   "metadata": {},
   "outputs": [
    {
     "name": "stdout",
     "output_type": "stream",
     "text": [
      "Twinkle, twinkle, little star, \n",
      "\tHow I wonder what you are!\n",
      "\t\tUp above the world so high, \n",
      "\t\tLike a diamond in the sky.\n",
      "Twinkle, twinkle, little star, \n",
      "\tHow I wonder what you are!\n"
     ]
    }
   ],
   "source": [
    "#Exercise01\n",
    "# here \\n denoted newline and \\t is tab sequence can be equal to 4 or 8 spaces\n",
    "print(\"Twinkle, twinkle, little star, \\n\\tHow I wonder what you are!\")\n",
    "print(\"\\t\\tUp above the world so high, \\n\\t\\tLike a diamond in the sky.\")\n",
    "print(\"Twinkle, twinkle, little star, \\n\\tHow I wonder what you are!\")"
   ]
  },
  {
   "cell_type": "code",
   "execution_count": 2,
   "id": "8b851782",
   "metadata": {},
   "outputs": [
    {
     "name": "stdout",
     "output_type": "stream",
     "text": [
      "3.7.10\n"
     ]
    }
   ],
   "source": [
    "#EXERCISE 02 \n",
    "#BY_IMPORTING platform module\n",
    "import platform\n",
    "print(platform.python_version())"
   ]
  },
  {
   "cell_type": "code",
   "execution_count": 4,
   "id": "6394e8c8",
   "metadata": {},
   "outputs": [
    {
     "name": "stdout",
     "output_type": "stream",
     "text": [
      "Python version\n",
      "3.7.10 (default, Feb 26 2021, 13:13:20) [MSC v.1916 32 bit (Intel)]\n"
     ]
    }
   ],
   "source": [
    "#by system module \n",
    "import sys\n",
    "print(\"Python version\")\n",
    "print (sys.version)\n"
   ]
  },
  {
   "cell_type": "code",
   "execution_count": 6,
   "id": "5da38d37",
   "metadata": {},
   "outputs": [
    {
     "name": "stdout",
     "output_type": "stream",
     "text": [
      "Current Date and Time : 2021-12-30 11:38:32.390541\n"
     ]
    }
   ],
   "source": [
    "\n",
    "#EXERCISE 03 \n",
    "from datetime import datetime\n",
    "now = datetime.now()\n",
    "print(\"Current Date and Time :\", now)"
   ]
  },
  {
   "cell_type": "code",
   "execution_count": 1,
   "id": "3aaa01bd",
   "metadata": {},
   "outputs": [
    {
     "name": "stdout",
     "output_type": "stream",
     "text": [
      "Input the radius of the circle : 2.3\n",
      "The area of the circle with radius 2.3 is: 16.619025137490002\n"
     ]
    }
   ],
   "source": [
    "#EXERCISE 04 \n",
    "from math import pi\n",
    "radius= float(input (\"Input the radius of the circle : \"))\n",
    "Area=pi * radius**2\n",
    "print (\"The area of the circle with radius \" + str(radius) + \" is: \" + str(Area))"
   ]
  },
  {
   "cell_type": "code",
   "execution_count": 2,
   "id": "00d3aa24",
   "metadata": {},
   "outputs": [
    {
     "name": "stdout",
     "output_type": "stream",
     "text": [
      "Input your First Name : Saiqa\n",
      "Input your Last Name : Channa\n",
      "Hello  Channa Saiqa\n"
     ]
    }
   ],
   "source": [
    "#EXERCISE 05 \n",
    "firstname = input(\"Input your First Name : \")\n",
    "lastname = input(\"Input your Last Name : \")\n",
    "print (\"Hello  \" + lastname + \" \" + firstname)\n",
    "\n"
   ]
  },
  {
   "cell_type": "code",
   "execution_count": 6,
   "id": "9379dd7d",
   "metadata": {},
   "outputs": [
    {
     "name": "stdout",
     "output_type": "stream",
     "text": [
      "Enter Number1:2\n",
      "Enter Number2:3\n",
      "Addition of  2 and 3 = 5\n"
     ]
    }
   ],
   "source": [
    "#EXERCISE 06 \n",
    "number1=int(input(\"Enter Number1:\"))\n",
    "number2=int(input(\"Enter Number2:\"))\n",
    "result=number1+number2\n",
    "print(\"Addition of  \"+str(number1)+\" and \"+str(number2)+\" = \"+ str(result ))"
   ]
  },
  {
   "cell_type": "code",
   "execution_count": null,
   "id": "c09dac6f",
   "metadata": {},
   "outputs": [],
   "source": []
  },
  {
   "cell_type": "code",
   "execution_count": null,
   "id": "3ec3e7f9",
   "metadata": {},
   "outputs": [],
   "source": []
  }
 ],
 "metadata": {
  "kernelspec": {
   "display_name": "Python 3 (ipykernel)",
   "language": "python",
   "name": "python3"
  },
  "language_info": {
   "codemirror_mode": {
    "name": "ipython",
    "version": 3
   },
   "file_extension": ".py",
   "mimetype": "text/x-python",
   "name": "python",
   "nbconvert_exporter": "python",
   "pygments_lexer": "ipython3",
   "version": "3.7.10"
  }
 },
 "nbformat": 4,
 "nbformat_minor": 5
}
