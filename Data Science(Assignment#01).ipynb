{
 "cells": [
  {
   "cell_type": "code",
   "execution_count": 23,
   "id": "1640ef9d",
   "metadata": {},
   "outputs": [
    {
     "name": "stdout",
     "output_type": "stream",
     "text": [
      "Welcome to Data Science !\n"
     ]
    }
   ],
   "source": [
    "#--------------Data Science By Jawan Pakistan---------#\n",
    "print(\"Welcome to Data Science !\");"
   ]
  },
  {
   "cell_type": "code",
   "execution_count": 24,
   "id": "ba7b56fa",
   "metadata": {},
   "outputs": [
    {
     "name": "stdout",
     "output_type": "stream",
     "text": [
      "Twinkle, twinkle, little star, \n",
      "\tHow I wonder what you are!\n",
      "\t\tUp above the world so high, \n",
      "\t\tLike a diamond in the sky.\n",
      "Twinkle, twinkle, little star, \n",
      "\tHow I wonder what you are!\n"
     ]
    }
   ],
   "source": [
    "#Exercise01\n",
    "# here \\n denoted newline and \\t is tab sequence can be equal to 4 or 8 spaces\n",
    "print(\"Twinkle, twinkle, little star, \\n\\tHow I wonder what you are!\")\n",
    "print(\"\\t\\tUp above the world so high, \\n\\t\\tLike a diamond in the sky.\")\n",
    "print(\"Twinkle, twinkle, little star, \\n\\tHow I wonder what you are!\")"
   ]
  },
  {
   "cell_type": "code",
   "execution_count": null,
   "id": "8b851782",
   "metadata": {},
   "outputs": [],
   "source": []
  }
 ],
 "metadata": {
  "kernelspec": {
   "display_name": "Python 3 (ipykernel)",
   "language": "python",
   "name": "python3"
  },
  "language_info": {
   "codemirror_mode": {
    "name": "ipython",
    "version": 3
   },
   "file_extension": ".py",
   "mimetype": "text/x-python",
   "name": "python",
   "nbconvert_exporter": "python",
   "pygments_lexer": "ipython3",
   "version": "3.7.10"
  }
 },
 "nbformat": 4,
 "nbformat_minor": 5
}
